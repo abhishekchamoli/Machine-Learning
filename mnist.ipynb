{
 "cells": [
  {
   "cell_type": "code",
   "execution_count": 12,
   "metadata": {},
   "outputs": [],
   "source": [
    "import tensorflow as tf"
   ]
  },
  {
   "cell_type": "code",
   "execution_count": 2,
   "metadata": {},
   "outputs": [],
   "source": [
    "from tensorflow.examples.tutorials.mnist import input_data"
   ]
  },
  {
   "cell_type": "code",
   "execution_count": 13,
   "metadata": {},
   "outputs": [
    {
     "name": "stdout",
     "output_type": "stream",
     "text": [
      "Extracting MNIST_data/train-images-idx3-ubyte.gz\n",
      "Extracting MNIST_data/train-labels-idx1-ubyte.gz\n",
      "Extracting MNIST_data/t10k-images-idx3-ubyte.gz\n",
      "Extracting MNIST_data/t10k-labels-idx1-ubyte.gz\n"
     ]
    }
   ],
   "source": [
    "mnist=input_data.read_data_sets(\"MNIST_data/\",one_hot=True)"
   ]
  },
  {
   "cell_type": "code",
   "execution_count": 4,
   "metadata": {},
   "outputs": [
    {
     "data": {
      "text/plain": [
       "Datasets(train=<tensorflow.contrib.learn.python.learn.datasets.mnist.DataSet object at 0x0000021933EE85C8>, validation=<tensorflow.contrib.learn.python.learn.datasets.mnist.DataSet object at 0x00000219351A2548>, test=<tensorflow.contrib.learn.python.learn.datasets.mnist.DataSet object at 0x00000219351A2488>)"
      ]
     },
     "execution_count": 4,
     "metadata": {},
     "output_type": "execute_result"
    }
   ],
   "source": [
    "mnist"
   ]
  },
  {
   "cell_type": "code",
   "execution_count": 5,
   "metadata": {},
   "outputs": [
    {
     "name": "stderr",
     "output_type": "stream",
     "text": [
      "Using TensorFlow backend.\n"
     ]
    }
   ],
   "source": [
    "from keras.models import Sequential\n",
    "from keras.layers import Dense"
   ]
  },
  {
   "cell_type": "code",
   "execution_count": 6,
   "metadata": {},
   "outputs": [],
   "source": [
    "model=Sequential()"
   ]
  },
  {
   "cell_type": "code",
   "execution_count": 7,
   "metadata": {},
   "outputs": [],
   "source": [
    "model.add((Dense(units=256,activation='relu',input_dim=784)))\n",
    "model.add(Dense(units=256,activation='relu'))\n",
    "model.add(Dense(units=10,activation='sigmoid'))"
   ]
  },
  {
   "cell_type": "code",
   "execution_count": 8,
   "metadata": {},
   "outputs": [
    {
     "name": "stdout",
     "output_type": "stream",
     "text": [
      "WARNING:tensorflow:From C:\\Users\\abhis\\Anaconda3\\envs\\Tensorflow\\lib\\site-packages\\tensorflow\\python\\ops\\nn_impl.py:180: add_dispatch_support.<locals>.wrapper (from tensorflow.python.ops.array_ops) is deprecated and will be removed in a future version.\n",
      "Instructions for updating:\n",
      "Use tf.where in 2.0, which has the same broadcast rule as np.where\n"
     ]
    }
   ],
   "source": [
    "model.compile(optimizer='adam',loss='binary_crossentropy',metrics=['accuracy'])"
   ]
  },
  {
   "cell_type": "code",
   "execution_count": 9,
   "metadata": {},
   "outputs": [],
   "source": [
    "x_train=mnist.train.images\n",
    "y_train=mnist.train.labels\n",
    "x_test=mnist.test.images\n",
    "y_test=mnist.test.labels"
   ]
  },
  {
   "cell_type": "code",
   "execution_count": 10,
   "metadata": {},
   "outputs": [
    {
     "name": "stdout",
     "output_type": "stream",
     "text": [
      "WARNING:tensorflow:From C:\\Users\\abhis\\Anaconda3\\envs\\Tensorflow\\lib\\site-packages\\keras\\backend\\tensorflow_backend.py:422: The name tf.global_variables is deprecated. Please use tf.compat.v1.global_variables instead.\n",
      "\n",
      "Epoch 1/20\n",
      "55000/55000 [==============================] - 1s 26us/step - loss: 0.4170 - accuracy: 0.8431\n",
      "Epoch 2/20\n",
      "55000/55000 [==============================] - 1s 20us/step - loss: 0.2266 - accuracy: 0.9202\n",
      "Epoch 3/20\n",
      "55000/55000 [==============================] - 1s 21us/step - loss: 0.1436 - accuracy: 0.9513\n",
      "Epoch 4/20\n",
      "55000/55000 [==============================] - 1s 21us/step - loss: 0.1035 - accuracy: 0.9668\n",
      "Epoch 5/20\n",
      "55000/55000 [==============================] - 1s 21us/step - loss: 0.0830 - accuracy: 0.9738\n",
      "Epoch 6/20\n",
      "55000/55000 [==============================] - 1s 21us/step - loss: 0.0709 - accuracy: 0.9777\n",
      "Epoch 7/20\n",
      "55000/55000 [==============================] - 1s 21us/step - loss: 0.0630 - accuracy: 0.9803\n",
      "Epoch 8/20\n",
      "55000/55000 [==============================] - 1s 20us/step - loss: 0.0570 - accuracy: 0.9822\n",
      "Epoch 9/20\n",
      "55000/55000 [==============================] - 1s 21us/step - loss: 0.0523 - accuracy: 0.9837\n",
      "Epoch 10/20\n",
      "55000/55000 [==============================] - 1s 20us/step - loss: 0.0483 - accuracy: 0.9849\n",
      "Epoch 11/20\n",
      "55000/55000 [==============================] - 1s 21us/step - loss: 0.0450 - accuracy: 0.9860\n",
      "Epoch 12/20\n",
      "55000/55000 [==============================] - 1s 21us/step - loss: 0.0421 - accuracy: 0.9869\n",
      "Epoch 13/20\n",
      "55000/55000 [==============================] - 1s 21us/step - loss: 0.0396 - accuracy: 0.9877\n",
      "Epoch 14/20\n",
      "55000/55000 [==============================] - 1s 21us/step - loss: 0.0373 - accuracy: 0.9884\n",
      "Epoch 15/20\n",
      "55000/55000 [==============================] - 1s 21us/step - loss: 0.0353 - accuracy: 0.9891\n",
      "Epoch 16/20\n",
      "55000/55000 [==============================] - 1s 21us/step - loss: 0.0334 - accuracy: 0.9896\n",
      "Epoch 17/20\n",
      "55000/55000 [==============================] - 1s 21us/step - loss: 0.0318 - accuracy: 0.9901\n",
      "Epoch 18/20\n",
      "55000/55000 [==============================] - 1s 21us/step - loss: 0.0303 - accuracy: 0.9906\n",
      "Epoch 19/20\n",
      "55000/55000 [==============================] - 1s 21us/step - loss: 0.0289 - accuracy: 0.9911\n",
      "Epoch 20/20\n",
      "55000/55000 [==============================] - 1s 21us/step - loss: 0.0277 - accuracy: 0.9914\n"
     ]
    },
    {
     "data": {
      "text/plain": [
       "<keras.callbacks.callbacks.History at 0x219365c0ec8>"
      ]
     },
     "execution_count": 10,
     "metadata": {},
     "output_type": "execute_result"
    }
   ],
   "source": [
    "model.fit(x_train,y_train,epochs=20,batch_size=5000)"
   ]
  },
  {
   "cell_type": "code",
   "execution_count": 11,
   "metadata": {},
   "outputs": [
    {
     "name": "stdout",
     "output_type": "stream",
     "text": [
      "10000/10000 [==============================] - 1s 61us/step\n"
     ]
    },
    {
     "data": {
      "text/plain": [
       "[0.02840642531812191, 0.990979790687561]"
      ]
     },
     "execution_count": 11,
     "metadata": {},
     "output_type": "execute_result"
    }
   ],
   "source": [
    "score = model.evaluate(x_test,y_test)\n",
    "score"
   ]
  }
 ],
 "metadata": {
  "kernelspec": {
   "display_name": "Python 3",
   "language": "python",
   "name": "python3"
  },
  "language_info": {
   "codemirror_mode": {
    "name": "ipython",
    "version": 3
   },
   "file_extension": ".py",
   "mimetype": "text/x-python",
   "name": "python",
   "nbconvert_exporter": "python",
   "pygments_lexer": "ipython3",
   "version": "3.7.7"
  }
 },
 "nbformat": 4,
 "nbformat_minor": 4
}
